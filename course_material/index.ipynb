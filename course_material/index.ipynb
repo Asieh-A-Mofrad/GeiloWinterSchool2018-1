{
 "cells": [
  {
   "cell_type": "markdown",
   "metadata": {},
   "source": [
    "# Course material\n",
    "\n",
    "* Lesson 01 - [Python 101](Python101.ipynb)\n",
    "* Lesson 02 - [The Scientific Python Stack](ScientificPython.ipynb)\n",
    "* Lesson 03 - [Linear regression](LinearRegression.ipynb)\n",
    "* Lesson 04 - [Multi-class Logistic Regression](MultiClassLogisticRegression.ipynb)\n",
    "* Lesson 05 - [Artificial Neural Networks](Aritifial_Neural_Network.ipynb)\n",
    "* Lesson 06 - [Convolutional Neural Networks](Convolutional_Neural_Network.ipynb)"
   ]
  }
 ],
 "metadata": {
  "kernelspec": {
   "display_name": "Python 3",
   "language": "python",
   "name": "python3"
  },
  "language_info": {
   "codemirror_mode": {
    "name": "ipython",
    "version": 3
   },
   "file_extension": ".py",
   "mimetype": "text/x-python",
   "name": "python",
   "nbconvert_exporter": "python",
   "pygments_lexer": "ipython3",
   "version": "3.6.0"
  }
 },
 "nbformat": 4,
 "nbformat_minor": 2
}
