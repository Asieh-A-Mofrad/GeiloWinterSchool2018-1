{
 "cells": [
  {
   "cell_type": "code",
   "execution_count": null,
   "metadata": {
    "collapsed": true
   },
   "outputs": [],
   "source": [
    "import scipy.io\n",
    "import numpy as np\n",
    "import math\n",
    "import matplotlib.pyplot as plt\n",
    "from scipy.optimize import minimize\n",
    "from scipy.special import expit\n",
    "from decimal import Decimal\n",
    "from keras.datasets import mnist\n",
    "from sklearn.model_selection import train_test_split"
   ]
  },
  {
   "cell_type": "markdown",
   "metadata": {},
   "source": [
    "# Artificial Neural Networks\n",
    "\n",
    "Here we will take a closer look at Neural Netorks, also known as Artificial Neural Networks (ANN) to destinuish them from their biological counterparts and Convolutional Neural Networks (CNN); which will be covered in the next session.\n",
    "\n",
    "ANNs simulate the brain architecture in that neurons take gets input from synapses and give output to other neurons, thereby forming a directed graph.  \n",
    "\n",
    "![General neural net graph](./images/general-ann.png)\n",
    "\n",
    "The topology of this graph can be quite diverse, however we will start with a simple example. We will tag some nodes as special input nodes and some as special output nodes. This is were we will attach the input-output training data to later. The rest of the nodes are simply called \"hidden nodes\"\n",
    "\n",
    "![Simple ANN](./images/Artificial_neural_network.svg)\n",
    "\n",
    "A single neuron takes multiple inputs $x_i$ and give a single output (possible to more than one reciever). The inputs are weighted by some $\\theta_i$ (including the bias $\\theta_0$) to compute an *activation*\n",
    "\n",
    "$z = \\theta_0 + \\theta_1 x_1 + \\theta_2 x_2 + ... + \\theta_n x_n$"
   ]
  },
  {
   "cell_type": "code",
   "execution_count": 96,
   "metadata": {
    "collapsed": true
   },
   "outputs": [],
   "source": [
    "def activation(x, theta):\n",
    "    answer = theta[0]\n",
    "    for i in range(len(x)):\n",
    "        answer += x[i]*theta[i+1]\n",
    "    return answer"
   ]
  },
  {
   "cell_type": "markdown",
   "metadata": {},
   "source": [
    "However the activation is typically passed through an activation function. This introduces non-linearity into the formulation which greatly helps in generalizing to complex problems. Different activation functions are available, but the two must videly used are the\n",
    "\n",
    "## sigmoid function"
   ]
  },
  {
   "cell_type": "code",
   "execution_count": null,
   "metadata": {},
   "outputs": [],
   "source": [
    "import numpy as np\n",
    "import matplotlib.pyplot as plt\n",
    "\n",
    "def sigmoid(z):\n",
    "    return 1 / (1+np.exp(-z))\n",
    "\n",
    "z = np.linspace(-8,8)\n",
    "plt.plot(z, sigmoid(z))\n",
    "plt.show()\n",
    "\n"
   ]
  },
  {
   "cell_type": "markdown",
   "metadata": {},
   "source": [
    "## rectified linear unit (relu)"
   ]
  },
  {
   "cell_type": "code",
   "execution_count": null,
   "metadata": {},
   "outputs": [],
   "source": [
    "def relu(z):\n",
    "    return np.maximum(z,0)\n",
    "\n",
    "z = np.linspace(-8,8)\n",
    "plt.plot(z, relu(z))\n",
    "plt.show()"
   ]
  },
  {
   "cell_type": "markdown",
   "metadata": {},
   "source": [
    "a single neuron with input weights $\\theta_i$ can then be programmed as"
   ]
  },
  {
   "cell_type": "code",
   "execution_count": null,
   "metadata": {
    "collapsed": true
   },
   "outputs": [],
   "source": [
    "def neuron(x,theta):\n",
    "    return sigmoid(activation(x,theta))"
   ]
  },
  {
   "cell_type": "markdown",
   "metadata": {},
   "source": [
    "if one choses the sigmoid activation function. The entire network described above can be written as"
   ]
  },
  {
   "cell_type": "code",
   "execution_count": null,
   "metadata": {
    "collapsed": true
   },
   "outputs": [],
   "source": [
    "# define some input vector\n",
    "x = [1,3,13]\n",
    "\n",
    "# compute output for hidden units\n",
    "a1 = neuron(x, [3,1,1,1]) # output from hidden neuron 1 using weights [3,1,1,1] (first weight is the bias)\n",
    "a2 = neuron(x, [1,1,2,1]) # output from hidden neuron 2 using weights [1,1,2,1]\n",
    "a3 = neuron(x, [0,3,2,1]) # output from hidden neuron 2 using weights [0,3,2,1]\n",
    "a4 = neuron(x, [2,0,0,1]) # output from hidden neuron 2 using weights [2,0,0,1]\n",
    "a  = [a1,a2,a3,a4]      # wrap all hidden values into a vector\n",
    "\n",
    "# compute output nodes\n",
    "y1 = neuron(a, [1,0,0,1,3]) # output neuron 1 using weights [1,0,0,1,3] (first weight is the bias)\n",
    "y2 = neuron(a, [1,3,9,1,0]) # output neuron 2 using weights [1,3,9,1,0]"
   ]
  },
  {
   "cell_type": "markdown",
   "metadata": {},
   "source": [
    "We note that every neuron $i$ has a different weight $\\theta_j$ and we often denote $\\Theta_{ij}$\n",
    "\n",
    "$$z = \\Theta^{(1)} \\left[\\begin{array}{c} 1 \\\\ x \\end{array}\\right]$$\n",
    "\n",
    "where, in this case we have\n",
    "\n",
    "$$ \\Theta^{(1)} = \\left[ \\begin{array}{cccc} 3 & 1 & 1 & 1 \\\\ 1 & 1 & 2 & 1 \\\\ 0 & 3 & 2 & 1 \\\\ 2 & 0 & 0 & 1\\end{array}\\right]$$\n",
    "\n",
    "Then we compute the activation function (for instance the sigmoid function $\\sigma$) and pass this to the next level of the network\n",
    "\n",
    "$$ a = \\sigma(z)$$\n",
    "\n",
    "Likewise, the output nodes will also have different weights and we write\n",
    "\n",
    "$$y = \\sigma\\left(\\Theta^{(2)} \\left[ \\begin{array}{c}1\\\\a\\end{array}\\right]\\right)$$\n",
    "\n",
    "$\\Theta^{(2)} =\\left[\\begin{array}{ccccc} 1 & 0 & 0 & 1 & 3 \\\\ 1 & 3 & 9 & 1 & 0 \\end{array}\\right]$ in this particular case. This vectorization allow us to create fast implementations of neural networks. $x$ and $y$ are as usual treated as the input and output respectively, while intermediate results are denoted $z$. \n",
    "\n",
    "Due to the optimzation possibilities, these *feed forward* networks have become very popular. We can extend this be adding more layers to it. By adding another layer we can start with a vector $x$, then compute a vector $p_1$ using a matrix of weights $\\Theta^{(1)}$. Subsequently we compute a vector $p_2$ using a matrix of weights $\\Theta^{(2)}$ followed by an output using $\\Theta^{(3)}$, giving the following network\n",
    "\n",
    "![Neural network with 2 hidden layers](./images/Artificial_neural_network_2layers.svg)\n",
    "\n",
    "We can control the architecture of the network and the activation functions used, but will not manually specify the weights $\\Theta$. This is trained using optimization algorithms using [backpropagation](https://en.wikipedia.org/wiki/Backpropagation)."
   ]
  },
  {
   "cell_type": "markdown",
   "metadata": {},
   "source": [
    "## House price regression using neural networks\n",
    "\n",
    "For a single hidden layer neural network, then this collapses to logistic regression. We will here implement the network outlined above with a single output neuron"
   ]
  },
  {
   "cell_type": "code",
   "execution_count": 95,
   "metadata": {},
   "outputs": [],
   "source": [
    "# Read and normalize features\n",
    "def featureNormalize(X):\n",
    "    X_norm = X\n",
    "    mu    = np.zeros((1, X.shape[1]))\n",
    "    sigma = np.zeros((1, X.shape[1]))\n",
    "    for i in range(X.shape[1]):\n",
    "        mu[:,i] = np.mean(X[:,i])\n",
    "        sigma[:,i] = np.std(X[:,i])\n",
    "        X_norm[:,i] = (X[:,i] - float(mu[:,i]))/float(sigma[:,i])\n",
    "    return X_norm, mu, sigma\n",
    "\n",
    "data = np.loadtxt('./data/housing_data.csv', delimiter=\",\")\n",
    "X = data[:,:2]\n",
    "y = data[:,2]\n",
    "m = len(y)\n"
   ]
  },
  {
   "cell_type": "markdown",
   "metadata": {},
   "source": [
    "We will in the following use the square sum loss function\n",
    "$$\n",
    "J(\\Theta) = \\frac{1}{2m}\\sum(y-y_p)^2\n",
    "$$\n",
    "with the following gradient\n",
    "$$\n",
    "\\frac{\\partial J}{\\partial \\Theta_ij} = \\frac{1}{m}\\sum(y-y_p)^2\n",
    "$$"
   ]
  },
  {
   "cell_type": "code",
   "execution_count": null,
   "metadata": {
    "collapsed": true
   },
   "outputs": [],
   "source": [
    "def cost(W,X,y):\n",
    "    (n,m) = X.shape # n features, m training examples\n",
    "    \n",
    "    Theta1 = np.reshape(W[  : 9], (3,3))\n",
    "    Theta2 = np.reshape(W[ 9:25], (4,4))\n",
    "    Theta3 = np.reshape(W[25:  ], (5,1))\n",
    "    z1 = Theta1 * np.vstack(np.ones((1,m)),  X)\n",
    "    a1 = sigmoid(z1)\n",
    "    z2 = Theta2 * np.vstack(np.ones((1,m)), a1)\n",
    "    a2 = sigmoid(z2)\n",
    "    z3 = Theta3 * np.vstack(np.ones((1,m)), a2)\n",
    "    yp = sigmoid(z3) # predicted values for one feed-forward iteration\n",
    "    \n",
    "    loss = np.sum((yp-y)**2) / 2 / m\n",
    "    \n",
    "    # compute the jacobian by partial differentiation\n",
    "    return (loss, jacobian)"
   ]
  },
  {
   "cell_type": "code",
   "execution_count": null,
   "metadata": {
    "collapsed": true
   },
   "outputs": [],
   "source": []
  },
  {
   "cell_type": "code",
   "execution_count": null,
   "metadata": {},
   "outputs": [],
   "source": [
    "print('Training Neural Network...')\n",
    "maxiter = 1000\n",
    "lambda_reg = 0.1\n",
    "results = minimize(cost, x0=nn_params, args=(X,y), options={'disp': True, 'maxiter':maxiter}, method=\"L-BFGS-B\", jac=True)\n",
    "\n",
    "all_weights = results[\"x\"]\n",
    "\n",
    "Theta1 = np.reshape(all_weights[  : 9], (3,3), order='F')\n",
    "Theta2 = np.reshape(all_weights[ 9:25], (4,4), order='F')\n",
    "Theta3 = np.reshape(all_weights[25:  ], (5,1), order='F')\n"
   ]
  },
  {
   "cell_type": "code",
   "execution_count": null,
   "metadata": {
    "collapsed": true
   },
   "outputs": [],
   "source": [
    "def displayData(X, example_width=None):\n",
    "    m,n = X.shape\n",
    "    plt.figure(figsize=(16,16))\n",
    "    if X.ndim == 1:\n",
    "        X = np.reshape(X, (-1,m))\n",
    "    if not example_width or not 'example_width' in locals():\n",
    "        example_width = int(round(math.sqrt(X.shape[1])))\n",
    "    plt.set_cmap(\"gray\")\n",
    "    example_height = n / example_width\n",
    "    display_rows = int(math.floor(math.sqrt(m)))\n",
    "    display_cols = int(math.ceil(m / display_rows))\n",
    "    pad = 1\n",
    "    display_array = -np.ones((pad + display_rows * int(example_height + pad),  pad + display_cols * int(example_width + pad)))\n",
    "    curr_ex = 1\n",
    "    for j in range(1,display_rows+1):\n",
    "        for i in range (1,display_cols+1):\n",
    "            if curr_ex > m:\n",
    "                break\n",
    "            max_val = max(abs(X[curr_ex-1, :]))\n",
    "            rows = pad + (j - 1) * (int(example_height) + pad) + np.array(range(int(example_height)))\n",
    "            cols = pad + (i - 1) * (int(example_width)  + pad) + np.array(range(int(example_width)))\n",
    "            display_array[rows[0]:rows[-1]+1 , cols[0]:cols[-1]+1] = np.reshape(X[curr_ex-1, :], (int(example_height), int(example_width)), order=\"F\") / max_val\n",
    "            curr_ex += 1\n",
    "            if curr_ex > m:\n",
    "                break\n",
    "    h = plt.imshow(display_array.T, vmin=-1, vmax=1)\n",
    "    plt.axis('off')\n",
    "    plt.show(block=False)\n",
    "    return h, display_array"
   ]
  },
  {
   "cell_type": "code",
   "execution_count": null,
   "metadata": {
    "collapsed": true
   },
   "outputs": [],
   "source": [
    "def predict(Theta1, Theta2, X):\n",
    "    if X.ndim == 1:\n",
    "        X = np.reshape(X, (-1,X.shape[0]))\n",
    "    m = X.shape[0]\n",
    "    p = np.zeros((m,1))\n",
    "    X = np.column_stack((np.ones((m,1)), X))\n",
    "    a2 = sigmoid( np.dot(X,Theta1.T) )\n",
    "    a2 = np.column_stack((np.ones((a2.shape[0],1)), a2))\n",
    "    a3 = sigmoid( np.dot(a2,Theta2.T) )\n",
    "    p = np.argmax(a3, axis=1)\n",
    "    return p + 1"
   ]
  },
  {
   "cell_type": "markdown",
   "metadata": {},
   "source": [
    "# Architecture of Deep Neural Network, Cost Function and Regularization\n",
    "<img src='./images/dnncost.jpg'>"
   ]
  },
  {
   "cell_type": "code",
   "execution_count": null,
   "metadata": {
    "collapsed": true
   },
   "outputs": [],
   "source": [
    "def nnCostFunction(nn_params, input_layer_size, hidden_layer_size, \\\n",
    "\tnum_labels, X, y, lambda_reg):\n",
    "    Theta1 = np.reshape(nn_params[:hidden_layer_size * (input_layer_size + 1)], \\\n",
    "                     (hidden_layer_size, input_layer_size + 1), order='F')\n",
    "\n",
    "    Theta2 = np.reshape(nn_params[hidden_layer_size * (input_layer_size + 1):], \\\n",
    "                     (num_labels, hidden_layer_size + 1), order='F')\n",
    "    m = len(X)\n",
    "    J = 0;\n",
    "    Theta1_grad = np.zeros( Theta1.shape )\n",
    "    Theta2_grad = np.zeros( Theta2.shape )\n",
    "    X = np.column_stack((np.ones((m,1)), X)) # = a1\n",
    "    a2 = sigmoid( np.dot(X,Theta1.T) )\n",
    "    a2 = np.column_stack((np.ones((a2.shape[0],1)), a2))\n",
    "    a3 = sigmoid( np.dot(a2,Theta2.T) )\n",
    "\n",
    "    labels = y\n",
    "    #One hot encoding\n",
    "    y = np.zeros((m,num_labels))\n",
    "    for i in range(m):\n",
    "    \ty[i, labels[i]-1] = 1\n",
    "\n",
    "    cost = 0\n",
    "    for i in range(m):\n",
    "    \tcost += np.sum( y[i] * np.log( a3[i] ) + (1 - y[i]) * np.log( 1 - a3[i] ) )\n",
    "    J = -(1.0/m)*cost\n",
    "    sumOfTheta1 = np.sum(np.sum(Theta1[:,1:]**2))\n",
    "    sumOfTheta2 = np.sum(np.sum(Theta2[:,1:]**2))\n",
    "    J = J + ( (lambda_reg/(2.0*m))*(sumOfTheta1+sumOfTheta2) )\n",
    "    bigDelta1 = 0\n",
    "    bigDelta2 = 0\n",
    "    for t in range(m):\n",
    "        x = X[t]\n",
    "        a2 = sigmoid( np.dot(x,Theta1.T))\n",
    "        a2 = np.concatenate((np.array([1]), a2))\n",
    "        a3 = sigmoid( np.dot(a2,Theta2.T) )\n",
    "        delta3 = np.zeros((num_labels))\n",
    "        for k in range(num_labels):\n",
    "            y_k = y[t, k]\n",
    "            delta3[k] = a3[k] - y_k\n",
    "        delta2 = (np.dot(Theta2[:,1:].T, delta3).T) * sigmoidGradient( np.dot(x, Theta1.T) )\n",
    "        bigDelta1 += np.outer(delta2, x)\n",
    "        bigDelta2 += np.outer(delta3, a2)\n",
    "    Theta1_grad = bigDelta1 / m\n",
    "    Theta2_grad = bigDelta2 / m\n",
    "    Theta1_grad_unregularized = np.copy(Theta1_grad)\n",
    "    Theta2_grad_unregularized = np.copy(Theta2_grad)\n",
    "    Theta1_grad += (float(lambda_reg)/m)*Theta1\n",
    "    Theta2_grad += (float(lambda_reg)/m)*Theta2\n",
    "    Theta1_grad[:,0] = Theta1_grad_unregularized[:,0]\n",
    "    Theta2_grad[:,0] = Theta2_grad_unregularized[:,0]\n",
    "    grad = np.concatenate((Theta1_grad.reshape(Theta1_grad.size, order='F'), Theta2_grad.reshape(Theta2_grad.size, order='F')))\n",
    "    return J, grad"
   ]
  },
  {
   "cell_type": "code",
   "execution_count": null,
   "metadata": {
    "collapsed": true
   },
   "outputs": [],
   "source": [
    "def randInitializeWeights(L_in, L_out):\n",
    "    W = np.zeros((L_out, 1 + L_in))\n",
    "    epsilon_init = 0.12\n",
    "    W = np.random.rand(L_out, 1 + L_in)*(2*epsilon_init) - epsilon_init\n",
    "    return W"
   ]
  },
  {
   "cell_type": "code",
   "execution_count": null,
   "metadata": {},
   "outputs": [],
   "source": [
    "(X_train, y_train), (X_test, y_test) = mnist.load_data()"
   ]
  },
  {
   "cell_type": "code",
   "execution_count": null,
   "metadata": {},
   "outputs": [],
   "source": [
    "# building the input vector from the 28x28 pixels\n",
    "X_train = X_train.reshape(60000, 784)\n",
    "X_test = X_test.reshape(10000, 784)\n",
    "_,input_layer_size  = X_train.shape  \n",
    "hidden_layer_size = 25   # 25 hidden units\n",
    "num_labels = 10"
   ]
  },
  {
   "cell_type": "markdown",
   "metadata": {},
   "source": [
    "# Resulting 2 Layer Neural Network\n",
    "<img src='./images/ann.jpg'>"
   ]
  },
  {
   "cell_type": "code",
   "execution_count": null,
   "metadata": {},
   "outputs": [],
   "source": [
    "X=X_train\n",
    "y=y_train\n",
    "m,n=X.shape\n",
    "y=y.flatten()\n",
    "rand_indices = np.random.permutation(m)\n",
    "random_images = X[rand_indices[:100],:]\n",
    "displayData(random_images);"
   ]
  },
  {
   "cell_type": "code",
   "execution_count": null,
   "metadata": {},
   "outputs": [],
   "source": [
    "Theta1=randInitializeWeights(input_layer_size,hidden_layer_size)\n",
    "Theta2=randInitializeWeights(hidden_layer_size, num_labels)\n",
    "nn_params = np.concatenate((Theta1.reshape(Theta1.size, order='F'), Theta2.reshape(Theta2.size, order='F')))#"
   ]
  },
  {
   "cell_type": "code",
   "execution_count": null,
   "metadata": {},
   "outputs": [],
   "source": [
    "print('Training Neural Network...')\n",
    "maxiter = 1000\n",
    "lambda_reg = 0.1\n",
    "myargs = (input_layer_size, hidden_layer_size, num_labels, X, y, lambda_reg)\n",
    "results = minimize(nnCostFunction, x0=nn_params, args=myargs, options={'disp': True, 'maxiter':maxiter}, method=\"L-BFGS-B\", jac=True)\n",
    "\n",
    "nn_params = results[\"x\"]\n",
    "\n",
    "Theta1 = np.reshape(nn_params[:hidden_layer_size * (input_layer_size + 1)], \\\n",
    "                 (hidden_layer_size, input_layer_size + 1), order='F')\n",
    "\n",
    "Theta2 = np.reshape(nn_params[hidden_layer_size * (input_layer_size + 1):], \\\n",
    "                 (num_labels, hidden_layer_size + 1), order='F')"
   ]
  },
  {
   "cell_type": "code",
   "execution_count": null,
   "metadata": {},
   "outputs": [],
   "source": [
    "print('\\nVisualizing Neural Network layer 1 \\n')\n",
    "displayData(Theta1[:, 1:]);"
   ]
  },
  {
   "cell_type": "code",
   "execution_count": null,
   "metadata": {},
   "outputs": [],
   "source": [
    "print('\\nVisualizing Neural Network layer 1 \\n')\n",
    "displayData(Theta2[:, 1:]);"
   ]
  },
  {
   "cell_type": "code",
   "execution_count": null,
   "metadata": {},
   "outputs": [],
   "source": [
    "pred = predict(Theta1, Theta2, X)"
   ]
  },
  {
   "cell_type": "code",
   "execution_count": null,
   "metadata": {},
   "outputs": [],
   "source": [
    "# uncomment code below to see the predictions that don't match\n",
    "# fmt = '{}   {}'\n",
    "# print(fmt.format('y', 'pred'))\n",
    "# for y_elem, pred_elem in zip(y, pred):\n",
    "#     if y_elem != pred_elem:\n",
    "#         print(fmt.format(y_elem%10, pred_elem%10))\n",
    "\n",
    "print('Training Set Accuracy: {:f}'.format( ( np.mean(pred == y)*100 ) ) )\n",
    "\n",
    "#for i in range(m):\n",
    "#    print('Displaying Example Image')\n",
    "#    displayData(X[rp[i], :].reshape(1,-1))\n",
    "#    pred = predict(Theta1, Theta2, X[rp[i], :])\n",
    "#    print('Neural Network Prediction: {:d} (digit {:d})'.format(pred[0], (pred%10)[0]))\n",
    "#    input('Program paused. Press enter to continue.\\n')"
   ]
  },
  {
   "cell_type": "markdown",
   "metadata": {},
   "source": [
    "# Solve using Keras with Tensorflow backend"
   ]
  },
  {
   "cell_type": "markdown",
   "metadata": {},
   "source": [
    "We will now create a neural network to be for recoqnizing hand-written digits using the Keras library. First we will download and inspect the dataset."
   ]
  },
  {
   "cell_type": "code",
   "execution_count": 11,
   "metadata": {},
   "outputs": [
    {
     "name": "stdout",
     "output_type": "stream",
     "text": [
      "(60000, 28, 28)\n",
      "(10000, 28, 28)\n"
     ]
    }
   ],
   "source": [
    "from keras.datasets import mnist\n",
    "\n",
    "(X_train, y_train), (X_test, y_test) = mnist.load_data()\n",
    "print(X_train.shape)\n",
    "print(X_test.shape)"
   ]
  },
  {
   "cell_type": "markdown",
   "metadata": {},
   "source": [
    "    This is a set of 60,000 images (28x28 pixels grayscale) of hand-written digits. We can display the first few images"
   ]
  },
  {
   "cell_type": "code",
   "execution_count": 27,
   "metadata": {},
   "outputs": [
    {
     "data": {
      "image/png": "[encoded data removed]",
      "text/plain": [
       "<matplotlib.figure.Figure at 0x7f7fa53f8ef0>"
      ]
     },
     "metadata": {},
     "output_type": "display_data"
    },
    {
     "data": {
      "image/png": "[encoded data removed]",
      "text/plain": [
       "<matplotlib.figure.Figure at 0x7f7fa2bac0b8>"
      ]
     },
     "metadata": {},
     "output_type": "display_data"
    },
    {
     "data": {
      "image/png": "[encoded data removed]",
      "text/plain": [
       "<matplotlib.figure.Figure at 0x7f7fa545fd68>"
      ]
     },
     "metadata": {},
     "output_type": "display_data"
    }
   ],
   "source": [
    "import matplotlib.pyplot as plt\n",
    "plt.imshow(X_train[0])\n",
    "plt.show()\n",
    "plt.imshow(X_train[1])\n",
    "plt.show()\n",
    "plt.imshow(X_train[2])\n",
    "plt.show()"
   ]
  },
  {
   "cell_type": "code",
   "execution_count": 25,
   "metadata": {},
   "outputs": [
    {
     "name": "stdout",
     "output_type": "stream",
     "text": [
      "[5 0 4]\n"
     ]
    }
   ],
   "source": [
    "# by inspecting the training labels, we see what these images are ment to show\n",
    "print(y_train[0:3])"
   ]
  },
  {
   "cell_type": "code",
   "execution_count": 38,
   "metadata": {},
   "outputs": [
    {
     "data": {
      "image/png": "[encoded data removed]",
      "text/plain": [
       "<matplotlib.figure.Figure at 0x7f7fa531a160>"
      ]
     },
     "metadata": {},
     "output_type": "display_data"
    },
    {
     "name": "stdout",
     "output_type": "stream",
     "text": [
      "[5 0 4 1 9 2 1 3 1 4]\n"
     ]
    }
   ],
   "source": [
    "# we can plot the first 10 digits in a single plot by reshaping the image data\n",
    "plt.imshow(X_train[:10,:,:].reshape((28*10,28)))\n",
    "plt.show()\n",
    "print(y_train[:10])"
   ]
  },
  {
   "cell_type": "markdown",
   "metadata": {},
   "source": [
    "We will now convert the input data to the right representation\n"
   ]
  },
  {
   "cell_type": "code",
   "execution_count": 46,
   "metadata": {},
   "outputs": [
    {
     "name": "stdout",
     "output_type": "stream",
     "text": [
      "[[0 0 0 0 0 1 0 0 0 0]\n",
      " [1 0 0 0 0 0 0 0 0 0]\n",
      " [0 0 0 0 1 0 0 0 0 0]\n",
      " [0 1 0 0 0 0 0 0 0 0]\n",
      " [0 0 0 0 0 0 0 0 0 1]\n",
      " [0 0 1 0 0 0 0 0 0 0]\n",
      " [0 1 0 0 0 0 0 0 0 0]\n",
      " [0 0 0 1 0 0 0 0 0 0]\n",
      " [0 1 0 0 0 0 0 0 0 0]\n",
      " [0 0 0 0 1 0 0 0 0 0]]\n",
      "[5 0 4 1 9 2 1 3 1 4]\n"
     ]
    }
   ],
   "source": [
    "from sklearn.preprocessing import LabelBinarizer\n",
    "\n",
    "# all inputs are defined as vectors, i.e. we collapse a 28x28 image to a 784 feature vector\n",
    "X  = X_train.reshape(60000,784)\n",
    "Xt = X_test.reshape(10000,784)\n",
    "\n",
    "# all outputs are defined as categorical values. We do a one-hot encoding of these\n",
    "categorical_transform = LabelBinarizer().fit(np.arange(10)) # labels are in the range [0,10]\n",
    "y  = categorical_transform.transform(y_train)\n",
    "yt = categorical_transform.transform(y_test)\n",
    "\n",
    "print(y[:10,:])\n",
    "print(y_train[:10])"
   ]
  },
  {
   "cell_type": "markdown",
   "metadata": {},
   "source": [
    "We will now create a Neural Network model in Keras using the Sequential model"
   ]
  },
  {
   "cell_type": "code",
   "execution_count": 70,
   "metadata": {},
   "outputs": [],
   "source": [
    "from keras.models import Sequential\n",
    "from keras.layers import Dense\n",
    "\n",
    "# create a model of sequential layers \n",
    "model = Sequential()\n",
    "\n",
    "# add the first layer, this *requires* you to specify the input dimension (our 28*28=784 px images)\n",
    "model.add(Dense(input_dim=784, units = 100, activation='sigmoid'))\n",
    "\n",
    "# add the second layer. All layers require you to specify the number of neurons (units)\n",
    "model.add(Dense(               units =  50, activation='sigmoid'))\n",
    "\n",
    "# the third and final output layer. We here use the 'softmax' activation function since we want to classify\n",
    "# the numbers [0-9] with a percentage prediction\n",
    "model.add(Dense(               units =  10, activation='softmax'))\n",
    "\n",
    "# finish the model and compile it so it is ready for training\n",
    "model.compile(optimizer= 'adam',                     \n",
    "              loss     = 'categorical_crossentropy',\n",
    "              metrics  = ['accuracy'])"
   ]
  },
  {
   "cell_type": "markdown",
   "metadata": {},
   "source": [
    "We now train the model on the training set."
   ]
  },
  {
   "cell_type": "code",
   "execution_count": 71,
   "metadata": {},
   "outputs": [
    {
     "name": "stdout",
     "output_type": "stream",
     "text": [
      "Train on 60000 samples, validate on 10000 samples\n",
      "Epoch 1/10\n",
      "60000/60000 [==============================] - 2s 38us/step - loss: 0.7632 - acc: 0.8309 - val_loss: 0.3814 - val_acc: 0.9008\n",
      "Epoch 2/10\n",
      "60000/60000 [==============================] - 2s 35us/step - loss: 0.3507 - acc: 0.9026 - val_loss: 0.3212 - val_acc: 0.9074\n",
      "Epoch 3/10\n",
      "60000/60000 [==============================] - 2s 41us/step - loss: 0.3204 - acc: 0.9059 - val_loss: 0.2864 - val_acc: 0.9151\n",
      "Epoch 4/10\n",
      "60000/60000 [==============================] - 2s 36us/step - loss: 0.2943 - acc: 0.9142 - val_loss: 0.2869 - val_acc: 0.9123\n",
      "Epoch 5/10\n",
      "60000/60000 [==============================] - 2s 32us/step - loss: 0.2775 - acc: 0.9174 - val_loss: 0.2735 - val_acc: 0.9166\n",
      "Epoch 6/10\n",
      "60000/60000 [==============================] - 2s 38us/step - loss: 0.2700 - acc: 0.9185 - val_loss: 0.2599 - val_acc: 0.9229\n",
      "Epoch 7/10\n",
      "60000/60000 [==============================] - 2s 34us/step - loss: 0.2632 - acc: 0.9203 - val_loss: 0.2566 - val_acc: 0.9216\n",
      "Epoch 8/10\n",
      "60000/60000 [==============================] - 2s 28us/step - loss: 0.2527 - acc: 0.9225 - val_loss: 0.2626 - val_acc: 0.9169\n",
      "Epoch 9/10\n",
      "60000/60000 [==============================] - 2s 29us/step - loss: 0.2409 - acc: 0.9276 - val_loss: 0.2385 - val_acc: 0.9249\n",
      "Epoch 10/10\n",
      "60000/60000 [==============================] - 2s 28us/step - loss: 0.2355 - acc: 0.9281 - val_loss: 0.2461 - val_acc: 0.9241\n"
     ]
    },
    {
     "data": {
      "text/plain": [
       "<keras.callbacks.History at 0x7f7f99b45c50>"
      ]
     },
     "execution_count": 71,
     "metadata": {},
     "output_type": "execute_result"
    }
   ],
   "source": [
    "model.fit(X, y,\n",
    "         epochs=10,\n",
    "         batch_size=100,\n",
    "         validation_data=(Xt,yt))"
   ]
  },
  {
   "cell_type": "markdown",
   "metadata": {},
   "source": [
    "We now test our model on one of the test images. Remember that the test images are *not* used for updating the weights, so this is considered an unseen example image by the model"
   ]
  },
  {
   "cell_type": "code",
   "execution_count": 66,
   "metadata": {},
   "outputs": [
    {
     "data": {
      "image/png": "[encoded data removed]",
      "text/plain": [
       "<matplotlib.figure.Figure at 0x7f7fa5475e48>"
      ]
     },
     "metadata": {},
     "output_type": "display_data"
    },
    {
     "name": "stdout",
     "output_type": "stream",
     "text": [
      "This is actually a 1\n",
      "\n",
      "[[  6.81431970e-07   9.88680124e-01   2.59935798e-04   9.39901825e-03\n",
      "    3.33482285e-06   5.68995427e-04   2.63311904e-05   2.73413723e-04\n",
      "    6.65243657e-04   1.22930855e-04]]\n",
      "\n",
      "98.86801242828369 % chance of this being a 1\n"
     ]
    }
   ],
   "source": [
    "i = 14 # choose one test image index\n",
    "\n",
    "# show one of the test images\n",
    "plt.imshow(X_test[i,:,:])\n",
    "plt.show()\n",
    "print('This is actually a', y_test[i]) # this is what it is *supposed* to be\n",
    "print()\n",
    "\n",
    "# do a prediction using our model\n",
    "prediction = model.predict(X_test[i,:,:].reshape(1,28*28)) # remember to roll the image data into a vector\n",
    "\n",
    "# the prediction is a vector of 10 (output nodes) with % probability of that being the shown digit (softmax function)\n",
    "print(prediction)\n",
    "print()\n",
    "print('{} % chance of this being a {}'.format(prediction[0,y_test[i]]*100, y_test[i]))"
   ]
  },
  {
   "cell_type": "markdown",
   "metadata": {},
   "source": [
    "Usually the weights are quite opaque, meaning that they are hard to interpret. In many applications this is not a problem; as the saying goes \"all models are wrong, some are usefull\". However if one wants a better understanding of what the model does, one can look at the equations. The predictions appear as a sequence of matrix-vector multiplications followed by application of the activation function. Ignoring the bias for now, they take the form:\n",
    "\n",
    "$$ z_1 = \\sigma\\left( \\Theta^{(1)} x  \\right) \\\\\n",
    "   z_2 = \\sigma\\left( \\Theta^{(2)} z_1\\right) \\\\\n",
    "   y   = \\sigma\\left( \\Theta^{(3)} z_2\\right) $$\n",
    "\n",
    "for our 3-layer neural network. Seing as the activation function, all take low values and map thems them to other low values and likewise for high values (monotonly growing function), it is not unreasonable to assume that a good approximation of neural importance comes from omitting the activation function to get\n",
    "\n",
    "$$ y \\approx \\Theta^{(3)} \\Theta^{(2)} \\Theta^{(1)} x $$\n",
    "\n",
    "If we call $\\Theta = \\Theta^{(3)} \\Theta^{(2)} \\Theta^{(1)}$, then this matrix will map from 784 image pixels to 10 digit predictions. We may get this matrix by"
   ]
  },
  {
   "cell_type": "code",
   "execution_count": 92,
   "metadata": {},
   "outputs": [
    {
     "name": "stdout",
     "output_type": "stream",
     "text": [
      "(784, 100)\n",
      "(100, 50)\n",
      "(50, 10)\n",
      "(10, 784)\n"
     ]
    }
   ],
   "source": [
    "theta1 = model.layers[0].get_weights()[0] # returns a tuple of weights and the bias, we only care about weights now\n",
    "theta2 = model.layers[1].get_weights()[0]\n",
    "theta3 = model.layers[2].get_weights()[0]\n",
    "\n",
    "print(theta1.shape)\n",
    "print(theta2.shape)\n",
    "print(theta3.shape)\n",
    "# keras stores the weights as the transpose of the above, so we correct these\n",
    "theta1 = theta1.T\n",
    "theta2 = theta2.T\n",
    "theta3 = theta3.T\n",
    "theta = theta3.dot(theta2).dot(theta1)\n",
    "print(theta.shape)"
   ]
  },
  {
   "cell_type": "markdown",
   "metadata": {},
   "source": [
    "Seing as the inputs are considered image pixels, we may now draw reinpret the effect of $\\Theta$ as image pixels. We reshape from 784 to (28,28) and draw the 10 images resulting from this"
   ]
  },
  {
   "cell_type": "code",
   "execution_count": 94,
   "metadata": {},
   "outputs": [
    {
     "data": {
      "image/png": "[encoded data removed]",
      "text/plain": [
       "<matplotlib.figure.Figure at 0x7f7fa01548d0>"
      ]
     },
     "metadata": {},
     "output_type": "display_data"
    }
   ],
   "source": [
    "image_intepretation = theta.reshape(28,28,10)\n",
    "plt.imshow(image_intepretation.reshape(28*10,28)) # reshape to 10 images down\n",
    "plt.show()"
   ]
  },
  {
   "cell_type": "markdown",
   "metadata": {},
   "source": [
    "Dark areas signify negative fedback while bright positive. Thus for the upper image, one can see a trace of a bright zero meaning that if pixel values in this region appears, this will count positively for this being the number '0'. The same image has a dark area in its center meaning that pixels in this region will count negative for this being a '0'."
   ]
  },
  {
   "cell_type": "markdown",
   "metadata": {},
   "source": [
    "# A stand-alone training model\n",
    "The above model can be compactly written as"
   ]
  },
  {
   "cell_type": "code",
   "execution_count": null,
   "metadata": {
    "collapsed": true
   },
   "outputs": [],
   "source": [
    "from sklearn.preprocessing import LabelBinarizer\n",
    "from keras.datasets import mnist\n",
    "from keras.models import Sequential\n",
    "from keras.layers import Dense\n",
    "\n",
    "# create preprocessor\n",
    "categorical_transform = LabelBinarizer().fit(np.arange(10))\n",
    "\n",
    "# load and transform data\n",
    "(X_train, y_train), (X_test, y_test) = mnist.load_data()\n",
    "X  = X_train.reshape(60000,784)\n",
    "Xt = X_test.reshape(10000,784)\n",
    "y  = categorical_transform.transform(y_train)\n",
    "yt = categorical_transform.transform(y_test)\n",
    "\n",
    "# create model\n",
    "model = Sequential()\n",
    "model.add(Dense(input_dim=784, units = 100, activation='sigmoid'))\n",
    "model.add(Dense(               units =  50, activation='sigmoid'))\n",
    "model.add(Dense(               units =  10, activation='softmax'))\n",
    "\n",
    "# compile model\n",
    "model.compile(optimizer= 'adam',                     \n",
    "              loss     = 'categorical_crossentropy',\n",
    "              metrics  = ['accuracy'])\n",
    "\n",
    "# train model\n",
    "model.fit(X, y,\n",
    "         epochs=10,\n",
    "         batch_size=100,\n",
    "         validation_data=(Xt,yt))\n"
   ]
  }
 ],
 "metadata": {
  "kernelspec": {
   "display_name": "Python 3",
   "language": "python",
   "name": "python3"
  },
  "language_info": {
   "codemirror_mode": {
    "name": "ipython",
    "version": 3
   },
   "file_extension": ".py",
   "mimetype": "text/x-python",
   "name": "python",
   "nbconvert_exporter": "python",
   "pygments_lexer": "ipython3",
   "version": "3.5.2"
  }
 },
 "nbformat": 4,
 "nbformat_minor": 2
}
