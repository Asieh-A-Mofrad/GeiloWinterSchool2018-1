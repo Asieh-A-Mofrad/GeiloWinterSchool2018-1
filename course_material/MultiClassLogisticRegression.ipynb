{
 "cells": [
  {
   "cell_type": "markdown",
   "metadata": {},
   "source": [
    "# OBJECTIVE, PROBLEM AND DATA\n",
    "<b>Objective:</b> To learn Logistic Regression involving multiple classes\n",
    "* Classification\n",
    "* Cost Function\n",
    "* Learn to use scikit-learn library for regression\n",
    "* Understanding of loss function and its gradient\n",
    "* Overfitting and Regularization\n",
    "* Using scikit-learn library to do MultiClassRegression\n",
    "<b>Problem:</b> We will solve two set of problems\n",
    "\n",
    "<b>Data</b>\n",
    "\n",
    "The MNIST problem is a dataset developed by Yann LeCun, Corinna Cortes and Christopher Burges for evaluating machine learning models on the handwritten digit classification problem. The dataset was constructed from a number of scanned document dataset available from the National Institute of Standards and Technology (NIST). This is where the name for the dataset comes from, as the Modified NIST or MNIST dataset. Images of digits were taken from a variety of scanned documents, normalized in size and centered. This makes it an excellent dataset for evaluating models, allowing the developer to focus on the machine learning with very little data cleaning or preparation required. Each image is a 28 by 28 pixel square (784 pixels total). A standard spit of the dataset is used to evaluate and compare models, where 60,000 images are used to train a model and a separate set of 10,000 images are used to test it. It is a digit recognition task. As such there are 10 digits (0 to 9) or 10 classes to predict. \n",
    "\n",
    "<b>Problem</b>\n",
    "The task is to classify the handwritten images into 10 different categories.\n",
    "<img src=\"./images/mlc.jpg\">\n",
    "\n",
    "<b>Excercise</b>\n",
    "1. Run the code\n",
    "2. Check the texts, formulae in the comments\n",
    "3. Try hyperparameter tuning (regularization, solver, penalty)\n",
    "4. Currently the data is split into training and test set. Cosider splitting the data into training, test and validation set. Use hyperparameter tuning with the test set and do model validation using the validation set. \n",
    "5. Try to improve the accuracy of the prediciton."
   ]
  },
  {
   "cell_type": "code",
   "execution_count": 1,
   "metadata": {},
   "outputs": [
    {
     "name": "stderr",
     "output_type": "stream",
     "text": [
      "Using TensorFlow backend.\n"
     ]
    }
   ],
   "source": [
    "import scipy.io\n",
    "import numpy as np\n",
    "import math\n",
    "import matplotlib.pyplot as plt\n",
    "from scipy.optimize import minimize\n",
    "from scipy.special import expit\n",
    "from keras.datasets import mnist"
   ]
  },
  {
   "cell_type": "markdown",
   "metadata": {},
   "source": [
    "Sigmoid Activation Function\n",
    "sigmoid(t)=$\\frac{1}{1+e^{-t}}$\n",
    "\n",
    "<img src=\"./images/sigmoid.png\" style=\"float: left; margin-right: 10px;\" />"
   ]
  },
  {
   "cell_type": "code",
   "execution_count": 2,
   "metadata": {
    "collapsed": true
   },
   "outputs": [],
   "source": [
    "def sigmoid(t):\n",
    "    g = np.zeros(t.shape)\n",
    "    g = expit(t)\n",
    "    return g"
   ]
  },
  {
   "cell_type": "markdown",
   "metadata": {},
   "source": [
    "Try plotting the sigmoid function by synethsizing your own data."
   ]
  },
  {
   "cell_type": "code",
   "execution_count": 3,
   "metadata": {
    "collapsed": true
   },
   "outputs": [],
   "source": [
    "def displayData(X, example_width=None):\n",
    "    m,n = X.shape\n",
    "    plt.figure(figsize=(16,16))\n",
    "    if X.ndim == 1:\n",
    "        X = np.reshape(X, (-1,m))\n",
    "    if not example_width or not 'example_width' in locals():\n",
    "        example_width = int(round(math.sqrt(X.shape[1])))\n",
    "    #plt.set_cmap(\"gray\")\n",
    "    example_height = n / example_width\n",
    "    display_rows = int(math.floor(math.sqrt(m)))\n",
    "    display_cols = int(math.ceil(m / display_rows))\n",
    "    pad = 1\n",
    "    display_array = -np.ones((pad + display_rows * int(example_height + pad),  pad + display_cols * int(example_width + pad)))\n",
    "    curr_ex = 1\n",
    "    for j in range(1,display_rows+1):\n",
    "        for i in range (1,display_cols+1):\n",
    "            if curr_ex > m:\n",
    "                break\n",
    "            max_val = max(abs(X[curr_ex-1, :]))\n",
    "            rows = pad + (j - 1) * (int(example_height) + pad) + np.array(range(int(example_height)))\n",
    "            cols = pad + (i - 1) * (int(example_width)  + pad) + np.array(range(int(example_width)))\n",
    "            display_array[rows[0]:rows[-1]+1 , cols[0]:cols[-1]+1] = np.reshape(X[curr_ex-1, :], (int(example_height), int(example_width)), order=\"F\") / max_val\n",
    "            curr_ex += 1\n",
    "            if curr_ex > m:\n",
    "                break\n",
    "    h = plt.imshow(display_array.T, vmin=-1, vmax=1)\n",
    "    plt.axis('off')\n",
    "    plt.show(block=False)\n",
    "    return h, display_array"
   ]
  },
  {
   "cell_type": "markdown",
   "metadata": {},
   "source": [
    "# Simplified Cost Function, its Gradient and Regularization\n",
    "\n",
    "We cannot use the same cost function that we used for linear regression because the Logistic Function will cause the output to be wavy, causing many local minima. In other words, it will not be a convex function.\n",
    "\n",
    "Instead, our cost function for logistic regression looks like:\n",
    "\n",
    "$J(\\theta)=\\frac{1}{m}Cost(h_{\\theta}(x^{(i)}),y^{(i)})$\n",
    "\n",
    "$Cost(h_{\\theta}(x),y)=-log(h_{\\theta}(x))$ if $y=1$\n",
    "\n",
    "$Cost(h_{\\theta}(x),y)=-log(1-h_{\\theta}(x))$ if $y=0$\n",
    "\n",
    "$Cost(h_{\\theta}(x),y)=0$ if $h_{\\theta}(x)=y$\n",
    "\n",
    "$Cost(h_{\\theta}(x),y) \\rightarrow \\infty$ if $y=0$ and $h_{\\theta}(x) \\rightarrow 1$\n",
    "\n",
    "$Cost(h_{\\theta}(x),y) \\rightarrow \\infty$ if $y=1$ and $h_{\\theta}(x) \\rightarrow 0$\n",
    "<img src=./images/logreg_cf.jpg> If our correct answer $y$ is 0, then the cost function will be 0 if our hypothesis function also outputs 0. If our hypothesis approaches 1, then the cost function will approach infinity.\n",
    "\n",
    "If our correct answer $y$ is 1, then the cost function will be 0 if our hypothesis function outputs 1. If our hypothesis approaches 0, then the cost function will approach infinity.\n",
    "\n",
    "Note that writing the cost function in this way guarantees that $J(\\theta)$ is convex for logistic regression.\n",
    "\n",
    "<b>Cost function</b>\n",
    "\n",
    "$J(\\theta)=-\\frac{1}{m} \\Sigma_{i=1}^{m}[y^{(i)}log(h_{\\theta}(x^{(i)})) + (1-y^{(i)})log(1-h_{\\theta}(x^{(i)}))]+\\frac{\\lambda}{2m}\\theta^{2}$\n",
    "\n",
    "<b>Cost function in vectorized form</b>\n",
    "\n",
    "$h=\\sigma(X\\theta)$\n",
    "\n",
    "$J(\\theta)=-\\frac{1}{m}(y^{T}log(h)+(1-y)^{T}log(1-h))+\\frac{\\lambda}{2m}\\theta^{2}$\n",
    "\n",
    "<b>Gradient</b>\n",
    "\n",
    "$\\nabla_{\\theta}J(\\theta)=\\frac{1}{m}X^{T}(h-y)+\\frac{\\lambda}{m}\\theta$\n",
    "\n",
    "Graident descent can be implemented using the following expression.\n",
    "$\\theta:=\\theta-\\frac{\\alpha}{m}X^{T}(h-y)$\n",
    "\n",
    "However, we will used an inbuilt function (fmin or fmin_bgfs from the scipy.optimize package) for finding the optimal parameters $\\theta$.\n",
    "\n",
    "Lastly the point to note is that there are additional terms $\\frac{\\lambda}{2m}\\theta^{2}$ and $\\frac{\\lambda}{m}\\theta$ added to the cost fucntion and its derivative. These terms result from regularization which is used to prevent overfitting of the data. Bigger value of $\\lambda$ will prevent overfitting."
   ]
  },
  {
   "cell_type": "code",
   "execution_count": 4,
   "metadata": {
    "collapsed": true
   },
   "outputs": [],
   "source": [
    "def costFunction(theta, X, y, lambda_reg, return_grad=False):\n",
    "    m = len(y)\n",
    "    J = 0\n",
    "    grad = np.zeros(theta.shape)\n",
    "    one = y * np.transpose(np.log( sigmoid( np.dot(X,theta) ) ))\n",
    "    two = (1-y) * np.transpose(np.log( 1 - sigmoid( np.dot(X,theta) ) ))\n",
    "    reg = ( float(lambda_reg) / (2*m)) * np.power(theta[1:theta.shape[0]],2).sum()\n",
    "    J = -(1./m)*(one+two).sum() + reg\n",
    "    grad = (1./m) * np.dot(sigmoid( np.dot(X,theta) ).T - y, X).T + ( float(lambda_reg) / m )*theta\n",
    "    grad_no_regularization = (1./m) * np.dot(sigmoid( np.dot(X,theta) ).T - y, X).T\n",
    "    grad[0] = grad_no_regularization[0]\n",
    "    if return_grad == True:\n",
    "        return J, grad.flatten()\n",
    "    elif return_grad == False:\n",
    "        return J"
   ]
  },
  {
   "cell_type": "markdown",
   "metadata": {},
   "source": [
    "Multiclass regression as 1 vs All: A regression problems consisting of multiple class can be reduced to a binary classification problem. For example the classification of handwritten digits into 10 classes  (0,1...,8,9) can be done first by first considering 0 as one class and non zero as another class, then 1 as one class and non 1 as another and so on.    \n",
    "<img src=\"./images/mlc.jpg\">"
   ]
  },
  {
   "cell_type": "code",
   "execution_count": 5,
   "metadata": {
    "collapsed": true
   },
   "outputs": [],
   "source": [
    "def oneVsAll(X, y, num_labels, lambda_reg):\n",
    "    m, n = X.shape\n",
    "    all_theta = np.zeros((num_labels, n + 1))\n",
    "    X = np.column_stack((np.ones((m,1)), X))\n",
    "    for c in range(num_labels):\n",
    "        initial_theta = np.zeros((n + 1, 1))\n",
    "        myargs = (X, (y%10==c).astype(int), lambda_reg, True)\n",
    "        theta = minimize(costFunction, x0=initial_theta, args=myargs, options={'disp': True, 'maxiter':12}, method=\"Newton-CG\", jac=True)\n",
    "        all_theta[c,:] = theta[\"x\"]\n",
    "    return all_theta"
   ]
  },
  {
   "cell_type": "code",
   "execution_count": 6,
   "metadata": {
    "collapsed": true
   },
   "outputs": [],
   "source": [
    "def predictOneVsAll(all_theta, X):\n",
    "    m = X.shape[0]\n",
    "    num_labels = all_theta.shape[0]\n",
    "    p = np.zeros((m, 1))\n",
    "    X = np.column_stack((np.ones((m,1)), X))\n",
    "    p = np.argmax(sigmoid( np.dot(X,all_theta.T) ), axis=1)\n",
    "    return p"
   ]
  },
  {
   "cell_type": "markdown",
   "metadata": {},
   "source": [
    "# Training, Test and Validation Set\n",
    "* Training set is used for training the model. \n",
    "* Test Set is used for hyperparameter tuning.\n",
    "* Validation Set is used for model validation.\n",
    "\n",
    "Load the digits and the labels. The loaded data is split into training and test sets."
   ]
  },
  {
   "cell_type": "code",
   "execution_count": 7,
   "metadata": {},
   "outputs": [
    {
     "name": "stdout",
     "output_type": "stream",
     "text": [
      "Downloading data from https://s3.amazonaws.com/img-datasets/mnist.npz\n",
      "11493376/11490434 [==============================] - 8s 1us/step\n"
     ]
    }
   ],
   "source": [
    "(X_train, y_train), (X_test, y_test) = mnist.load_data()"
   ]
  },
  {
   "cell_type": "code",
   "execution_count": 8,
   "metadata": {
    "collapsed": true
   },
   "outputs": [],
   "source": [
    "# building the input vector from the 28x28 pixels\n",
    "X_train = X_train.reshape(60000, 784)\n",
    "X_test = X_test.reshape(10000, 784)\n",
    "X_train = X_train.astype('float32')\n",
    "X_test = X_test.astype('float32')"
   ]
  },
  {
   "cell_type": "markdown",
   "metadata": {},
   "source": [
    "The pixel values range from 0 to 255: the background majority close to 0, and those close to 255 representing the digit.\n",
    "Normalizing the input data helps to speed up the training."
   ]
  },
  {
   "cell_type": "code",
   "execution_count": 9,
   "metadata": {
    "collapsed": true
   },
   "outputs": [],
   "source": [
    "# normalizing the data to help with the training\n",
    "X_train /= 255\n",
    "X_test /= 255"
   ]
  },
  {
   "cell_type": "code",
   "execution_count": 10,
   "metadata": {},
   "outputs": [
    {
     "name": "stdout",
     "output_type": "stream",
     "text": [
      "Train matrix shape (60000, 784)\n",
      "Test matrix shape (10000, 784)\n",
      "(array([0, 1, 2, 3, 4, 5, 6, 7, 8, 9], dtype=uint8), array([5923, 6742, 5958, 6131, 5842, 5421, 5918, 6265, 5851, 5949]))\n"
     ]
    }
   ],
   "source": [
    "# print the final input shape ready for training\n",
    "print(\"Train matrix shape\", X_train.shape)\n",
    "print(\"Test matrix shape\", X_test.shape)\n",
    "print(np.unique(y_train, return_counts=True))"
   ]
  },
  {
   "cell_type": "code",
   "execution_count": 11,
   "metadata": {
    "collapsed": true
   },
   "outputs": [],
   "source": [
    "n_classes = 10\n",
    "input_layer_size = 784\n",
    "num_labels = n_classes\n",
    "X=X_train\n",
    "y=y_train"
   ]
  },
  {
   "cell_type": "markdown",
   "metadata": {},
   "source": [
    "\n",
    "Let's inspect a few examples. The MNIST dataset contains only grayscale images. For more advanced datasets, we'll have the three color channels (RGB)."
   ]
  },
  {
   "cell_type": "code",
   "execution_count": 12,
   "metadata": {},
   "outputs": [
    {
     "data": {
      "image/png": "[encoded data removed]",
      "text/plain": [
       "<matplotlib.figure.Figure at 0x7f6eb4527358>"
      ]
     },
     "metadata": {},
     "output_type": "display_data"
    }
   ],
   "source": [
    "m,n=X.shape\n",
    "#y=y.flatten()\n",
    "rand_indices = np.random.permutation(m)\n",
    "random_images = X[rand_indices[:100],:]\n",
    "displayData(random_images)\n",
    "lambda_reg = 0.1"
   ]
  },
  {
   "cell_type": "code",
   "execution_count": 13,
   "metadata": {},
   "outputs": [
    {
     "name": "stdout",
     "output_type": "stream",
     "text": [
      "Warning: Maximum number of iterations has been exceeded.\n",
      "         Current function value: 0.020740\n",
      "         Iterations: 12\n",
      "         Function evaluations: 13\n",
      "         Gradient evaluations: 274\n",
      "         Hessian evaluations: 0\n",
      "Warning: Maximum number of iterations has been exceeded.\n",
      "         Current function value: 0.023679\n",
      "         Iterations: 12\n",
      "         Function evaluations: 13\n",
      "         Gradient evaluations: 196\n",
      "         Hessian evaluations: 0\n",
      "Warning: Maximum number of iterations has been exceeded.\n",
      "         Current function value: 0.062641\n",
      "         Iterations: 12\n",
      "         Function evaluations: 14\n",
      "         Gradient evaluations: 245\n",
      "         Hessian evaluations: 0\n",
      "Warning: Maximum number of iterations has been exceeded.\n",
      "         Current function value: 0.076428\n",
      "         Iterations: 12\n",
      "         Function evaluations: 13\n",
      "         Gradient evaluations: 228\n",
      "         Hessian evaluations: 0\n",
      "Warning: Maximum number of iterations has been exceeded.\n",
      "         Current function value: 0.046024\n",
      "         Iterations: 12\n",
      "         Function evaluations: 13\n",
      "         Gradient evaluations: 348\n",
      "         Hessian evaluations: 0\n",
      "Warning: Maximum number of iterations has been exceeded.\n",
      "         Current function value: 0.087229\n",
      "         Iterations: 12\n",
      "         Function evaluations: 14\n",
      "         Gradient evaluations: 201\n",
      "         Hessian evaluations: 0\n",
      "Warning: Maximum number of iterations has been exceeded.\n",
      "         Current function value: 0.034382\n",
      "         Iterations: 12\n",
      "         Function evaluations: 13\n",
      "         Gradient evaluations: 436\n",
      "         Hessian evaluations: 0\n",
      "Warning: Maximum number of iterations has been exceeded.\n",
      "         Current function value: 0.043573\n",
      "         Iterations: 12\n",
      "         Function evaluations: 13\n",
      "         Gradient evaluations: 478\n",
      "         Hessian evaluations: 0\n",
      "Warning: Maximum number of iterations has been exceeded.\n",
      "         Current function value: 0.113529\n",
      "         Iterations: 12\n",
      "         Function evaluations: 15\n",
      "         Gradient evaluations: 192\n",
      "         Hessian evaluations: 0\n",
      "Warning: Maximum number of iterations has been exceeded.\n",
      "         Current function value: 0.097036\n",
      "         Iterations: 12\n",
      "         Function evaluations: 14\n",
      "         Gradient evaluations: 141\n",
      "         Hessian evaluations: 0\n"
     ]
    }
   ],
   "source": [
    "all_theta = oneVsAll(X, y, num_labels, lambda_reg)"
   ]
  },
  {
   "cell_type": "code",
   "execution_count": 14,
   "metadata": {},
   "outputs": [
    {
     "name": "stdout",
     "output_type": "stream",
     "text": [
      "Training Set Accuracy: 92.415000\n",
      "Training Set Accuracy for 1:  92.000000\n",
      "Training Set Accuracy for 2:  88.200000\n",
      "Training Set Accuracy for 3:  94.400000\n",
      "Training Set Accuracy for 4:  94.000000\n",
      "Training Set Accuracy for 5:  93.600000\n",
      "Training Set Accuracy for 6:  93.200000\n",
      "Training Set Accuracy for 7:  94.000000\n",
      "Training Set Accuracy for 8:  92.200000\n",
      "Training Set Accuracy for 9:  94.200000\n",
      "Training Set Accuracy for 0: 94.200000\n"
     ]
    }
   ],
   "source": [
    "pred = predictOneVsAll(all_theta, X_train)\n",
    "print('Training Set Accuracy: {:f}'.format((np.mean(pred == y_train%10)*100)))\n",
    "print('Training Set Accuracy for 1:  {:f}'.format(np.mean(pred[500:1000]  == y.flatten()[500:1000]%10)  * 100))\n",
    "print('Training Set Accuracy for 2:  {:f}'.format(np.mean(pred[1000:1500] == y.flatten()[1000:1500]%10) * 100))\n",
    "print('Training Set Accuracy for 3:  {:f}'.format(np.mean(pred[1500:2000] == y.flatten()[1500:2000]%10) * 100))\n",
    "print('Training Set Accuracy for 4:  {:f}'.format(np.mean(pred[2000:2500] == y.flatten()[2000:2500]%10) * 100))\n",
    "print('Training Set Accuracy for 5:  {:f}'.format(np.mean(pred[2500:3000] == y.flatten()[2500:3000]%10) * 100))\n",
    "print('Training Set Accuracy for 6:  {:f}'.format(np.mean(pred[3000:3500] == y.flatten()[3000:3500]%10) * 100))\n",
    "print('Training Set Accuracy for 7:  {:f}'.format(np.mean(pred[3500:4000] == y.flatten()[3500:4000]%10) * 100))\n",
    "print('Training Set Accuracy for 8:  {:f}'.format(np.mean(pred[4000:4500] == y.flatten()[4000:4500]%10) * 100))\n",
    "print('Training Set Accuracy for 9:  {:f}'.format(np.mean(pred[4500:5000] == y.flatten()[4500:5000]%10) * 100))\n",
    "print('Training Set Accuracy for 0: {:f}'.format(np.mean(pred[0:500]     == y.flatten()[0:500]%10)     * 100))"
   ]
  },
  {
   "cell_type": "code",
   "execution_count": 15,
   "metadata": {
    "collapsed": true
   },
   "outputs": [],
   "source": [
    "#Write the code to test the 'Test Set Accuracy'"
   ]
  },
  {
   "cell_type": "code",
   "execution_count": 16,
   "metadata": {
    "collapsed": true
   },
   "outputs": [],
   "source": [
    "#Randomize all the digits\n",
    "rand_indices = np.random.permutation(m)\n",
    "random_X = X[rand_indices[:m],:]\n",
    "random_y = y[rand_indices[:m]]"
   ]
  },
  {
   "cell_type": "code",
   "execution_count": 17,
   "metadata": {},
   "outputs": [
    {
     "name": "stdout",
     "output_type": "stream",
     "text": [
      "Input the index of the random image you want to predict 14\n",
      "Predicted digit  [1]\n",
      "Actual digit  1\n"
     ]
    },
    {
     "data": {
      "image/png": "[encoded data removed]",
      "text/plain": [
       "<matplotlib.figure.Figure at 0x7f6eb1ea9358>"
      ]
     },
     "metadata": {},
     "output_type": "display_data"
    }
   ],
   "source": [
    "num_digit=int(input(\"Input the index of the random image you want to predict \"))\n",
    "pred1=predictOneVsAll(all_theta, random_X[num_digit,:].reshape(1,-1))\n",
    "print(\"Predicted digit \", pred1)\n",
    "print(\"Actual digit \",random_y[num_digit])\n",
    "plt.imshow((random_X[num_digit,:].reshape(28,28)))\n",
    "plt.show()"
   ]
  },
  {
   "cell_type": "code",
   "execution_count": 18,
   "metadata": {},
   "outputs": [
    {
     "ename": "NameError",
     "evalue": "name 'theta0' is not defined",
     "output_type": "error",
     "traceback": [
      "\u001b[0;31m---------------------------------------------------------------------------\u001b[0m",
      "\u001b[0;31mNameError\u001b[0m                                 Traceback (most recent call last)",
      "\u001b[0;32m<ipython-input-18-a585a35eef43>\u001b[0m in \u001b[0;36m<module>\u001b[0;34m()\u001b[0m\n\u001b[0;32m----> 1\u001b[0;31m \u001b[0mdisplayData\u001b[0m\u001b[0;34m(\u001b[0m\u001b[0mtheta0\u001b[0m\u001b[0;34m)\u001b[0m\u001b[0;34m;\u001b[0m\u001b[0;34m\u001b[0m\u001b[0m\n\u001b[0m",
      "\u001b[0;31mNameError\u001b[0m: name 'theta0' is not defined"
     ]
    }
   ],
   "source": [
    "displayData(theta0);"
   ]
  },
  {
   "cell_type": "markdown",
   "metadata": {},
   "source": [
    "# Using Scikit-Learn library "
   ]
  },
  {
   "cell_type": "code",
   "execution_count": null,
   "metadata": {
    "collapsed": true
   },
   "outputs": [],
   "source": [
    "from scipy.optimize import minimize\n",
    "from scipy.special import expit\n",
    "from sklearn import linear_model"
   ]
  },
  {
   "cell_type": "code",
   "execution_count": null,
   "metadata": {
    "collapsed": true
   },
   "outputs": [],
   "source": [
    "logreg = linear_model.LogisticRegression(C=10., multi_class='multinomial', penalty='l2', solver='newton-cg', tol=0.1)\n",
    "logreg.fit(X, y);"
   ]
  },
  {
   "cell_type": "code",
   "execution_count": null,
   "metadata": {},
   "outputs": [],
   "source": [
    "pred = logreg.predict(X);\n",
    "print('Training Set Accuracy: {:f}'.format((np.mean(pred == y%10)*100)));\n",
    "print('Training Set Accuracy for 1:  {:f}'.format(np.mean(pred[500:1000]  == y.flatten()[500:1000]%10)  * 100));\n",
    "print('Training Set Accuracy for 2:  {:f}'.format(np.mean(pred[1000:1500] == y.flatten()[1000:1500]%10) * 100));\n",
    "print('Training Set Accuracy for 3:  {:f}'.format(np.mean(pred[1500:2000] == y.flatten()[1500:2000]%10) * 100));\n",
    "print('Training Set Accuracy for 4:  {:f}'.format(np.mean(pred[2000:2500] == y.flatten()[2000:2500]%10) * 100));\n",
    "print('Training Set Accuracy for 5:  {:f}'.format(np.mean(pred[2500:3000] == y.flatten()[2500:3000]%10) * 100));\n",
    "print('Training Set Accuracy for 6:  {:f}'.format(np.mean(pred[3000:3500] == y.flatten()[3000:3500]%10) * 100));\n",
    "print('Training Set Accuracy for 7:  {:f}'.format(np.mean(pred[3500:4000] == y.flatten()[3500:4000]%10) * 100));\n",
    "print('Training Set Accuracy for 8:  {:f}'.format(np.mean(pred[4000:4500] == y.flatten()[4000:4500]%10) * 100));\n",
    "print('Training Set Accuracy for 9:  {:f}'.format(np.mean(pred[4500:5000] == y.flatten()[4500:5000]%10) * 100));\n",
    "print('Training Set Accuracy for 10: {:f}'.format(np.mean(pred[0:500]     == y.flatten()[0:500]%10)     * 100));"
   ]
  },
  {
   "cell_type": "code",
   "execution_count": null,
   "metadata": {
    "collapsed": true
   },
   "outputs": [],
   "source": [
    "#Write the code to test the 'Test Set Accuracy'"
   ]
  },
  {
   "cell_type": "code",
   "execution_count": null,
   "metadata": {},
   "outputs": [],
   "source": [
    "coef = logreg.coef_.copy()\n",
    "displayData(coef);"
   ]
  }
 ],
 "metadata": {
  "kernelspec": {
   "display_name": "Python 3",
   "language": "python",
   "name": "python3"
  },
  "language_info": {
   "codemirror_mode": {
    "name": "ipython",
    "version": 3
   },
   "file_extension": ".py",
   "mimetype": "text/x-python",
   "name": "python",
   "nbconvert_exporter": "python",
   "pygments_lexer": "ipython3",
   "version": "3.5.2"
  }
 },
 "nbformat": 4,
 "nbformat_minor": 2
}
